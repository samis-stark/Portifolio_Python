{
  "nbformat": 4,
  "nbformat_minor": 0,
  "metadata": {
    "colab": {
      "provenance": [],
      "authorship_tag": "ABX9TyNWDf0/wSbBWG2JmFpX7rj/",
      "include_colab_link": true
    },
    "kernelspec": {
      "name": "python3",
      "display_name": "Python 3"
    },
    "language_info": {
      "name": "python"
    }
  },
  "cells": [
    {
      "cell_type": "markdown",
      "metadata": {
        "id": "view-in-github",
        "colab_type": "text"
      },
      "source": [
        "<a href=\"https://colab.research.google.com/github/samis-stark/Portifolio_Python/blob/main/Desafios_Python.ipynb\" target=\"_parent\"><img src=\"https://colab.research.google.com/assets/colab-badge.svg\" alt=\"Open In Colab\"/></a>"
      ]
    },
    {
      "cell_type": "code",
      "source": [
        "# 1. Calcular quantos dias um produto duraria se a pessoa usar X porçõess por dia.\n",
        "\n",
        "total_porcoes= int(input('Quantas porções o produto tem? '))\n",
        "porcoes_por_dia= int(input('Quantas porções você usa por dia? '))\n",
        "\n",
        "dias= total_porcoes / porcoes_por_dia\n",
        "\n",
        "print (f'O produto vai durar {int(dias)} dias') # 1° maneira de chegar ao resultado sem decimal\n",
        "print (f'O produto vai durar {dias:.0f} dias') # 2° maneira \""
      ],
      "metadata": {
        "colab": {
          "base_uri": "https://localhost:8080/"
        },
        "id": "M95tLH_Ek-qz",
        "outputId": "61511013-4ffe-4df2-fe96-d69ce9d97375"
      },
      "execution_count": null,
      "outputs": [
        {
          "output_type": "stream",
          "name": "stdout",
          "text": [
            "Quantas porções o produto tem? 300\n",
            "Quantas porções você usa por dia? 5\n",
            "O produto vai durar 60 dias\n",
            "O produto vai durar 60 dias\n"
          ]
        }
      ]
    },
    {
      "cell_type": "code",
      "source": [
        "# 2. Verificar se uma pessoa é maior ou menor de idade\n",
        "# Para esta soluçao, foi usado o True/False e o IF/ELSE\n",
        "\n",
        "Idade= int (input('Você tem quantos anos? '))\n",
        "print(f'Você é maior de idade? {Idade >=18}')\n",
        "\n",
        "Idade= int (input('Você tem quantos anos? '))\n",
        "print(f'Você é maior de idade? {Idade >=18} ')\n",
        "\n",
        "Idade= int(input('Qual é a sua idade? '))\n",
        "if Idade >=18:\n",
        "  print(\"Você é maior de idade\")\n",
        "else:\n",
        "  print('Você é menor de idade')\n"
      ],
      "metadata": {
        "colab": {
          "base_uri": "https://localhost:8080/"
        },
        "id": "7aFOJxczxIYl",
        "outputId": "313ef5d1-d322-43cd-bdbc-0a8ef130b66f"
      },
      "execution_count": null,
      "outputs": [
        {
          "output_type": "stream",
          "name": "stdout",
          "text": [
            "Você tem quantos anos? 12\n",
            "Você é maior de idade? False\n",
            "Você tem quantos anos? 18\n",
            "Você é maior de idade? True \n",
            "Qual é a sua idade? 20\n",
            "Você é maior de idade\n"
          ]
        }
      ]
    },
    {
      "cell_type": "code",
      "source": [
        "# 3. Login de acesso 1\n",
        "\n",
        "usuario = input('Digite o seu usuário:')\n",
        "senha = input('Digite a sua senha: ')\n",
        "\n",
        "login_valido = usuario == 'Admin' and senha == \"123admin\"\n",
        "\n",
        "print (f'Login valido: {login_valido}')"
      ],
      "metadata": {
        "colab": {
          "base_uri": "https://localhost:8080/"
        },
        "id": "1pBbQ6zd-9AV",
        "outputId": "c02b46b2-6109-4a0d-9501-1566b128ab0a"
      },
      "execution_count": null,
      "outputs": [
        {
          "output_type": "stream",
          "name": "stdout",
          "text": [
            "Digite o seu usuário:Adimin\n",
            "Digite a sua senha: 123admin\n",
            "Login valido: False\n"
          ]
        }
      ]
    },
    {
      "cell_type": "code",
      "source": [
        "# 4. Login de acesso 2\n",
        "\n",
        "usuario = input(\"Digite o seu usuário: \")\n",
        "senha = input('Digite a sua senha: ')\n",
        "\n",
        "if usuario == \"admin\" and senha == \"123admin\":\n",
        "  print(\"Seja bem vindo ao site\")\n",
        "else:\n",
        "  print(\"Senha ou usuário incorretos\")"
      ],
      "metadata": {
        "colab": {
          "base_uri": "https://localhost:8080/"
        },
        "id": "i-eTfpDN4hMj",
        "outputId": "7940887b-1273-4e46-ef9b-e7824c7b2f2c"
      },
      "execution_count": null,
      "outputs": [
        {
          "output_type": "stream",
          "name": "stdout",
          "text": [
            "Digite o seu usuário: admin\n",
            "Digite a sua senha: 123admin\n",
            "Seja bem vindo ao site\n"
          ]
        }
      ]
    },
    {
      "cell_type": "code",
      "source": [
        "# 5. Login de acesso 3 - Para menores de idade\n",
        "\n",
        "idade = int(input(\"Qual é a sua idade? \"))\n",
        "\n",
        "if idade >= 18:\n",
        "    print(\"Acesso permitido. Seja bem-vindo ao site.\")\n",
        "elif idade < 18:\n",
        "    autorizacao = input(\"Você tem a liberação dos seus pais? \").lower()\n",
        "    if autorizacao == \"sim\":\n",
        "        print(\"Um e-mail de alerta foi enviado para os seus pais.\")\n",
        "        print(\"Seja bem-vindo ao site.\")\n",
        "    else:\n",
        "        print(\"Acesso negado.\")\n",
        "else:\n",
        "    print(\"Acesso negado.\")"
      ],
      "metadata": {
        "colab": {
          "base_uri": "https://localhost:8080/"
        },
        "id": "8UoHiSto6oa_",
        "outputId": "649a2faa-eb0e-4546-f3f2-838dfa205d28"
      },
      "execution_count": null,
      "outputs": [
        {
          "output_type": "stream",
          "name": "stdout",
          "text": [
            "Qual é a sua idade? 15\n",
            "Você tem a liberação dos seus pais? não\n",
            "Acesso negado.\n"
          ]
        }
      ]
    },
    {
      "cell_type": "code",
      "source": [
        "# 6.Login de acesso 4´\n",
        "# Usando o while\n",
        "\n",
        "senha = \" \" #Começa sempre vazio\n",
        "while senha != \"123\":\n",
        "  senha = input (\"Qual é a sua senha?\")\n",
        "print (\"Acesso liberado\")"
      ],
      "metadata": {
        "colab": {
          "base_uri": "https://localhost:8080/"
        },
        "id": "JJsE6Wu_MKZx",
        "outputId": "2b5cacbc-6541-4a24-c7a1-b2cd0ee8a4b7"
      },
      "execution_count": null,
      "outputs": [
        {
          "output_type": "stream",
          "name": "stdout",
          "text": [
            "Qual é a sua senha?ll\n",
            "Qual é a sua senha?kkk\n",
            "Qual é a sua senha?123\n",
            "Acesso liberado\n"
          ]
        }
      ]
    },
    {
      "cell_type": "code",
      "source": [
        "# Lista de tarefas diárias + For Loops\n",
        "\n",
        "tarefas = [] # Sempre deixar vazio para conseguir adicionar mais itens\n",
        "\n",
        "tarefas.append (\"Limpar a casa\")\n",
        "tarefas.append (\"Estudar Python\")\n",
        "tarefas.append (\"Fazer almoço\")\n",
        "\n",
        "for tarefas in tarefas: # Ele vai rodar apenas as tarefas existentes\n",
        "  print(f'Realizar a tarefa: {tarefas}')"
      ],
      "metadata": {
        "colab": {
          "base_uri": "https://localhost:8080/"
        },
        "id": "SEKqk2xPLKWo",
        "outputId": "d066e506-44e9-4a47-9830-4a6c23049315"
      },
      "execution_count": 2,
      "outputs": [
        {
          "output_type": "stream",
          "name": "stdout",
          "text": [
            "Realizar a tarefa: Limpar a casa\n",
            "Realizar a tarefa: Estudar Python\n",
            "Realizar a tarefa: Fazer almoço\n"
          ]
        }
      ]
    },
    {
      "cell_type": "code",
      "source": [
        "# Dicionário de alunos\n",
        "\n",
        "aluno = {\n",
        "    'Nome': input('Digite o nome do aluno: '),\n",
        "    'Idade': input('Digite a idade do aluno: '),\n",
        "    'Turma': input('Digite a turma do aluno: '),\n",
        "}\n",
        "\n",
        "print(f\"O {aluno['Nome']} é da turma {aluno['Turma']} e tem {aluno['Idade']} anos.\")"
      ],
      "metadata": {
        "colab": {
          "base_uri": "https://localhost:8080/"
        },
        "id": "kPEtzXz0PlVC",
        "outputId": "c49caa4f-04bc-481c-86a7-76f2b10bcc8a"
      },
      "execution_count": 4,
      "outputs": [
        {
          "output_type": "stream",
          "name": "stdout",
          "text": [
            "Digite o nome do aluno: Samira\n",
            "Digite a idade do aluno: 8\n",
            "Digite a turma do aluno: 7B\n",
            "O Samira é da turma 7B e tem 8 anos.\n"
          ]
        }
      ]
    }
  ]
}