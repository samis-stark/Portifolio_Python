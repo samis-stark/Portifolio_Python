{
  "nbformat": 4,
  "nbformat_minor": 0,
  "metadata": {
    "colab": {
      "provenance": [],
      "authorship_tag": "ABX9TyOQLFT3D/IiuhzeOQZiGj8M",
      "include_colab_link": true
    },
    "kernelspec": {
      "name": "python3",
      "display_name": "Python 3"
    },
    "language_info": {
      "name": "python"
    }
  },
  "cells": [
    {
      "cell_type": "markdown",
      "metadata": {
        "id": "view-in-github",
        "colab_type": "text"
      },
      "source": [
        "<a href=\"https://colab.research.google.com/github/samis-stark/Portifolio_Python/blob/main/Fundamentos_Python.ipynb\" target=\"_parent\"><img src=\"https://colab.research.google.com/assets/colab-badge.svg\" alt=\"Open In Colab\"/></a>"
      ]
    },
    {
      "cell_type": "code",
      "source": [
        "# Type\n",
        "Nome = \"Samira\"\n",
        "Idade = 22\n",
        "\n",
        "print(type(Nome))\n",
        "print(type(Idade))"
      ],
      "metadata": {
        "colab": {
          "base_uri": "https://localhost:8080/"
        },
        "id": "QvzOTEs3acaD",
        "outputId": "086e7634-c748-4a43-90f3-c5ea0fb259d4"
      },
      "execution_count": null,
      "outputs": [
        {
          "output_type": "stream",
          "name": "stdout",
          "text": [
            "<class 'str'>\n",
            "<class 'int'>\n"
          ]
        }
      ]
    },
    {
      "cell_type": "code",
      "execution_count": null,
      "metadata": {
        "colab": {
          "base_uri": "https://localhost:8080/"
        },
        "id": "kJQI0a7tL8zb",
        "outputId": "2e7447bb-325b-44b5-9daa-9c84e95da87c"
      },
      "outputs": [
        {
          "output_type": "stream",
          "name": "stdout",
          "text": [
            "Samira\n",
            "22\n",
            "Você é especial\n"
          ]
        }
      ],
      "source": [
        "# Testando Váriaveis\n",
        "\n",
        "nome = 'Samira'\n",
        "idade = \"22\"\n",
        "mensagem = \"Você é especial\"\n",
        "\n",
        "print(nome)\n",
        "print(idade)\n",
        "print(mensagem)"
      ]
    },
    {
      "cell_type": "code",
      "source": [
        "# Sem F-String\n",
        "\n",
        "Nome=input('Digite o seu nome: ')\n",
        "Idade=input('Digite a sua idade: ')\n",
        "print(\"Olá\", Nome +\", você tem\", Idade ,\"anos de idade\")"
      ],
      "metadata": {
        "colab": {
          "base_uri": "https://localhost:8080/"
        },
        "id": "RcP2hn9sPKzH",
        "outputId": "140aa926-a7dd-411b-bbf1-c86097b62165"
      },
      "execution_count": null,
      "outputs": [
        {
          "output_type": "stream",
          "name": "stdout",
          "text": [
            "Digite o seu nome: Samira\n",
            "Digite a sua idade: 22\n",
            "Olá Samira, você tem 22 anos de idade\n"
          ]
        }
      ]
    },
    {
      "cell_type": "code",
      "source": [
        "# Com F-String\n",
        "\n",
        "Nome=input('Digite o seu nome: ')\n",
        "Idade=input('Digite a sua idade: ')\n",
        "Fruta_favorita=input('Qual é a sua fruta favorita? ')\n",
        "\n",
        "print(f'Olá {Nome}, você tem {Idade} anos de idade e a sua fruta favorita é {Fruta_favorita}.')"
      ],
      "metadata": {
        "colab": {
          "base_uri": "https://localhost:8080/"
        },
        "id": "L80KPjvHSfwI",
        "outputId": "5088768b-fa82-4bc8-d6e3-8a1aad36d781"
      },
      "execution_count": null,
      "outputs": [
        {
          "output_type": "stream",
          "name": "stdout",
          "text": [
            "Digite o seu nome: Samira\n",
            "Digite a sua idade: 22\n",
            "Qual é a sua fruta favorita? abacate\n",
            "Olá Samira, você tem 22 anos de idade e a sua fruta favorita é abacate.\n"
          ]
        }
      ]
    },
    {
      "cell_type": "code",
      "source": [
        "# F-String + Cálculos Matemáticos\n",
        "\n",
        "Nome= input('Digite o seu nome: ')\n",
        "Idade= int(input('Digite a sua idade: '))\n",
        "\n",
        "print(f'Olá {Nome}, em 5 anos você terá {Idade + 5} anos.')"
      ],
      "metadata": {
        "colab": {
          "base_uri": "https://localhost:8080/"
        },
        "id": "Df3oxGB4Xl1B",
        "outputId": "01aca28d-a98e-46b6-e22c-a2e646aa8fd5"
      },
      "execution_count": null,
      "outputs": [
        {
          "output_type": "stream",
          "name": "stdout",
          "text": [
            "Digite o seu nome: Samira\n",
            "Digite a sua idade: 20\n",
            "Olá Samira, em 5 anos você terá 25 anos.\n"
          ]
        }
      ]
    },
    {
      "cell_type": "code",
      "source": [
        "# Operadores Aritméticos\n",
        "\n",
        "num1 = 10\n",
        "num2 = 3\n",
        "\n",
        "print (num1 + num2) # Soma\n",
        "print (num1 - num2) # Subtração\n",
        "print (num1 * num2) # Multiplicação\n",
        "print (num1 / num2) # Divisão\n",
        "print (num1 % num2) # Resto da divisão\n",
        "print (num1 ** num2) # Pontencia\n",
        "print (num1 // num2) # Divisão inteira"
      ],
      "metadata": {
        "colab": {
          "base_uri": "https://localhost:8080/"
        },
        "id": "aWmdCUODe83f",
        "outputId": "25754c00-8550-4b70-e3e2-dc94a78706b8"
      },
      "execution_count": null,
      "outputs": [
        {
          "output_type": "stream",
          "name": "stdout",
          "text": [
            "13\n",
            "7\n",
            "30\n",
            "3.3333333333333335\n",
            "1\n",
            "1000\n",
            "3\n"
          ]
        }
      ]
    },
    {
      "cell_type": "code",
      "source": [
        "# Matématica com Desconto\n",
        "\n",
        "Nome= input('Digite o seu nome: ')\n",
        "Preço = float(input('Digite o preço do produto: '))\n",
        "Desconto = float(input('Digite o desconto: '))\n",
        "Novo_preço= Preço - (Preço * (Desconto / 100))\n",
        "\n",
        "print(f'Olá {Nome}, o novo preço do produto é R$ {Novo_preço:.2f}')"
      ],
      "metadata": {
        "colab": {
          "base_uri": "https://localhost:8080/"
        },
        "id": "oS-ccW-Sg8Tu",
        "outputId": "24539355-b139-4683-a5be-cf407478a551"
      },
      "execution_count": null,
      "outputs": [
        {
          "output_type": "stream",
          "name": "stdout",
          "text": [
            "Digite o seu nome: Samira\n",
            "Digite o preço do produto: 50\n",
            "Digite o desconto: 10\n",
            "Olá Samira, o novo preço do produto é R$45.00\n"
          ]
        }
      ]
    },
    {
      "cell_type": "code",
      "source": [
        "# Operadores Relacionais\n",
        "# Nos casos abaixo, pedi para que ele me retornasse se as variáveis são iguais ou diferentes\n",
        "num1=10\n",
        "num2=9\n",
        "\n",
        "print(num1==num2)\n",
        "print(num1!=num2)\n",
        "print(num1>num2)\n",
        "print(num1<num2)\n",
        "\n",
        "num3=10\n",
        "num4=10\n",
        "\n",
        "print(num3==num4)\n",
        "print(num3!=num4)\n",
        "print(num3>=num4)\n",
        "print(num3<=num4)\n",
        "\n",
        "num5=10\n",
        "num6=\"10\"\n",
        "\n",
        "print(num5==num6) # Este caso é falso porque o num5 é um int e o num6 é uma str\n",
        "print(num5!=num6)"
      ],
      "metadata": {
        "colab": {
          "base_uri": "https://localhost:8080/"
        },
        "id": "dBnpSuuaatPr",
        "outputId": "203d3cf4-5b74-468a-f278-617272b92183"
      },
      "execution_count": 7,
      "outputs": [
        {
          "output_type": "stream",
          "name": "stdout",
          "text": [
            "False\n",
            "True\n",
            "True\n",
            "False\n",
            "True\n",
            "False\n",
            "True\n",
            "True\n",
            "False\n",
            "True\n"
          ]
        }
      ]
    },
    {
      "cell_type": "code",
      "source": [
        "# Condições (IF, ELSE, ELIF) Parte 1\n",
        "numero = int(input('Qual número você escolhe? '))\n",
        "\n",
        "if numero == 5:\n",
        "  print('Você acertou. Parabéns!')\n",
        "else:\n",
        "  print('Não foi dessa vez! :( tente de novo!')\n",
        "\n",
        "numero = int(input('Qual número você escolhe? '))\n",
        "\n",
        "if numero == 5:\n",
        "  print('Você acertou. Parabéns!')\n",
        "else:\n",
        "  print('Não foi dessa vez! :( tente de novo!')"
      ],
      "metadata": {
        "colab": {
          "base_uri": "https://localhost:8080/"
        },
        "id": "20pHhs9CEuZz",
        "outputId": "92a15fe2-c7d2-4db4-d03a-b2279f4f4651"
      },
      "execution_count": 6,
      "outputs": [
        {
          "output_type": "stream",
          "name": "stdout",
          "text": [
            "Qual número você escolhe? 10\n",
            "Não foi dessa vez! :( tente de novo!\n",
            "Qual número você escolhe? 5\n",
            "Você acertou. Parabéns!\n"
          ]
        }
      ]
    },
    {
      "cell_type": "code",
      "source": [
        "# Condições (IF, ELSE, ELIF) Parte 2\n",
        "# Sistema que mostra se um aluno passou ou não na matéria\n",
        "\n",
        "nota_aluno = float(input(\"Qual foi a sua nota do exame? \"))\n",
        "\n",
        "if nota_aluno >= 7:\n",
        "  print(\"Uau, parabéns! Você foi aprovado.\")\n",
        "elif nota_aluno >=5:\n",
        "  print(\"Você está de recuperação.\")\n",
        "else:\n",
        "  print(\"Poxa, você foi reprovado\")"
      ],
      "metadata": {
        "colab": {
          "base_uri": "https://localhost:8080/"
        },
        "id": "ebnNc48yyxVV",
        "outputId": "ccb384a6-3d7f-441d-a09a-f30d0386e683"
      },
      "execution_count": 19,
      "outputs": [
        {
          "output_type": "stream",
          "name": "stdout",
          "text": [
            "Qual foi a sua nota do exame? 5\n",
            "Você está de recuperação.\n"
          ]
        }
      ]
    },
    {
      "cell_type": "code",
      "source": [
        "# Repetições com o FOR\n",
        "# Contando de trás para frente\n",
        "\n",
        "for numero in range (4,0,-1):\n",
        "  print (numero)"
      ],
      "metadata": {
        "colab": {
          "base_uri": "https://localhost:8080/"
        },
        "id": "i52wcOf6F_EG",
        "outputId": "5203b50a-78b1-4486-dd66-555660db63ab"
      },
      "execution_count": 23,
      "outputs": [
        {
          "output_type": "stream",
          "name": "stdout",
          "text": [
            "4\n",
            "3\n",
            "2\n",
            "1\n"
          ]
        }
      ]
    },
    {
      "cell_type": "code",
      "source": [
        "# Repetição com o While\n",
        "\n",
        "i = 5\n",
        "while i <=10:\n",
        "  print (i)\n",
        "  i = i+1"
      ],
      "metadata": {
        "colab": {
          "base_uri": "https://localhost:8080/"
        },
        "id": "LmLZgaZeLXtZ",
        "outputId": "65f0963f-336c-4d39-f428-763f620f9bc3"
      },
      "execution_count": 24,
      "outputs": [
        {
          "output_type": "stream",
          "name": "stdout",
          "text": [
            "5\n",
            "6\n",
            "7\n",
            "8\n",
            "9\n",
            "10\n"
          ]
        }
      ]
    },
    {
      "cell_type": "code",
      "source": [],
      "metadata": {
        "id": "kR7V-ve8LXU6"
      },
      "execution_count": null,
      "outputs": []
    }
  ]
}